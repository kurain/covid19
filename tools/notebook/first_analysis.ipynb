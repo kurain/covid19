{
 "cells": [
  {
   "cell_type": "code",
   "execution_count": 1,
   "metadata": {},
   "outputs": [],
   "source": [
    "import pandas as pd\n",
    "import json"
   ]
  },
  {
   "cell_type": "code",
   "execution_count": 2,
   "metadata": {},
   "outputs": [
    {
     "data": {
      "text/html": [
       "<div>\n",
       "<style scoped>\n",
       "    .dataframe tbody tr th:only-of-type {\n",
       "        vertical-align: middle;\n",
       "    }\n",
       "\n",
       "    .dataframe tbody tr th {\n",
       "        vertical-align: top;\n",
       "    }\n",
       "\n",
       "    .dataframe thead th {\n",
       "        text-align: right;\n",
       "    }\n",
       "</style>\n",
       "<table border=\"1\" class=\"dataframe\">\n",
       "  <thead>\n",
       "    <tr style=\"text-align: right;\">\n",
       "      <th></th>\n",
       "      <th>新No.</th>\n",
       "      <th>旧No.</th>\n",
       "      <th>確定年</th>\n",
       "      <th>確定月</th>\n",
       "      <th>確定日</th>\n",
       "      <th>年代</th>\n",
       "      <th>性別</th>\n",
       "      <th>居住地1</th>\n",
       "      <th>居住地2</th>\n",
       "    </tr>\n",
       "  </thead>\n",
       "  <tbody>\n",
       "    <tr>\n",
       "      <th>0</th>\n",
       "      <td>1</td>\n",
       "      <td>1</td>\n",
       "      <td>2020</td>\n",
       "      <td>1</td>\n",
       "      <td>15</td>\n",
       "      <td>30代</td>\n",
       "      <td>男</td>\n",
       "      <td>神奈川県</td>\n",
       "      <td>NaN</td>\n",
       "    </tr>\n",
       "    <tr>\n",
       "      <th>1</th>\n",
       "      <td>2</td>\n",
       "      <td>2</td>\n",
       "      <td>2020</td>\n",
       "      <td>1</td>\n",
       "      <td>24</td>\n",
       "      <td>40代</td>\n",
       "      <td>男</td>\n",
       "      <td>中国（武漢市）</td>\n",
       "      <td>NaN</td>\n",
       "    </tr>\n",
       "    <tr>\n",
       "      <th>2</th>\n",
       "      <td>3</td>\n",
       "      <td>3</td>\n",
       "      <td>2020</td>\n",
       "      <td>1</td>\n",
       "      <td>25</td>\n",
       "      <td>30代</td>\n",
       "      <td>女</td>\n",
       "      <td>中国（武漢市）</td>\n",
       "      <td>NaN</td>\n",
       "    </tr>\n",
       "    <tr>\n",
       "      <th>3</th>\n",
       "      <td>4</td>\n",
       "      <td>4</td>\n",
       "      <td>2020</td>\n",
       "      <td>1</td>\n",
       "      <td>26</td>\n",
       "      <td>40代</td>\n",
       "      <td>男</td>\n",
       "      <td>中国（武漢市）</td>\n",
       "      <td>NaN</td>\n",
       "    </tr>\n",
       "    <tr>\n",
       "      <th>4</th>\n",
       "      <td>5</td>\n",
       "      <td>5</td>\n",
       "      <td>2020</td>\n",
       "      <td>1</td>\n",
       "      <td>28</td>\n",
       "      <td>40代</td>\n",
       "      <td>男</td>\n",
       "      <td>中国（武漢市）</td>\n",
       "      <td>NaN</td>\n",
       "    </tr>\n",
       "  </tbody>\n",
       "</table>\n",
       "</div>"
      ],
      "text/plain": [
       "   新No.  旧No.   確定年  確定月  確定日   年代 性別     居住地1 居住地2\n",
       "0     1     1  2020    1   15  30代  男     神奈川県  NaN\n",
       "1     2     2  2020    1   24  40代  男  中国（武漢市）  NaN\n",
       "2     3     3  2020    1   25  30代  女  中国（武漢市）  NaN\n",
       "3     4     4  2020    1   26  40代  男  中国（武漢市）  NaN\n",
       "4     5     5  2020    1   28  40代  男  中国（武漢市）  NaN"
      ]
     },
     "execution_count": 2,
     "metadata": {},
     "output_type": "execute_result"
    }
   ],
   "source": [
    "raw = pd.read_csv('../../data/individuals.csv')\n",
    "raw.head()"
   ]
  },
  {
   "cell_type": "code",
   "execution_count": 3,
   "metadata": {},
   "outputs": [],
   "source": [
    "region_to_prefecture = {\n",
    "    '北海道': ['北海道'],\n",
    "    '東北': ['青森県', '岩手県', '秋田県', '宮城県', '山形県', '福島県'],\n",
    "    '関東': ['茨城県', '栃木県', '群馬県', '埼玉県', '千葉県', '東京都', '神奈川県'],\n",
    "    '中部': ['新潟県', '富山県', '石川県', '福井県', '山梨県', '長野県', '岐阜県', '静岡県', '愛知県'],\n",
    "    '近畿': ['三重県', '滋賀県', '京都府', '大阪府', '兵庫県', '奈良県', '和歌山県'],\n",
    "    '中国': ['鳥取県', '島根県', '岡山県', '広島県', '山口県'],\n",
    "    '四国': ['徳島県', '香川県', '愛媛県', '高知県'],\n",
    "    '九州沖縄': ['福岡県', '佐賀県', '長崎県', '熊本県', '大分県', '宮崎県', '鹿児島県', '沖縄県'],\n",
    "}\n",
    "prefectures = []\n",
    "for k,v in region_to_prefecture.items():\n",
    "    prefectures += v"
   ]
  },
  {
   "cell_type": "code",
   "execution_count": 48,
   "metadata": {},
   "outputs": [],
   "source": [
    "tableau20 = [(31, 119, 180), (174, 199, 232), (255, 127, 14), (255, 187, 120),    \n",
    "             (44, 160, 44), (152, 223, 138), (214, 39, 40), (255, 152, 150),    \n",
    "             (148, 103, 189), (197, 176, 213), (140, 86, 75), (196, 156, 148),    \n",
    "             (227, 119, 194), (247, 182, 210), (127, 127, 127), (199, 199, 199),    \n",
    "             (188, 189, 34), (219, 219, 141), (23, 190, 207), (158, 218, 229)]"
   ]
  },
  {
   "cell_type": "code",
   "execution_count": 4,
   "metadata": {},
   "outputs": [],
   "source": [
    "raw['date'] = pd.to_datetime(raw.apply(lambda r: f\"{r['確定年']}-{r['確定月']:02d}-{r['確定日']:02d}\", axis=1))"
   ]
  },
  {
   "cell_type": "code",
   "execution_count": 5,
   "metadata": {},
   "outputs": [
    {
     "data": {
      "text/plain": [
       "date\n",
       "2020-03-01     2.0\n",
       "2020-03-02     5.0\n",
       "2020-03-03     2.0\n",
       "2020-03-04     4.0\n",
       "2020-03-05     NaN\n",
       "2020-03-06     7.0\n",
       "2020-03-07     8.0\n",
       "2020-03-08     3.0\n",
       "2020-03-09     7.0\n",
       "2020-03-10     3.0\n",
       "2020-03-11     7.0\n",
       "2020-03-12    10.0\n",
       "2020-03-13     8.0\n",
       "2020-03-14     6.0\n",
       "2020-03-15     6.0\n",
       "2020-03-16     4.0\n",
       "2020-03-17     NaN\n",
       "2020-03-18     2.0\n",
       "2020-03-19     3.0\n",
       "Name: 北海道, dtype: float64"
      ]
     },
     "execution_count": 5,
     "metadata": {},
     "output_type": "execute_result"
    }
   ],
   "source": [
    "count_by_location = raw[['date', '居住地1','新No.']].pivot_table(index='date',columns='居住地1',values='新No.',aggfunc='count')\n",
    "count_by_location.loc['2020-03-01':,'北海道']"
   ]
  },
  {
   "cell_type": "code",
   "execution_count": 6,
   "metadata": {},
   "outputs": [],
   "source": [
    "s = count_by_location.index[0]\n",
    "t =  count_by_location.index[-1]\n",
    "dummy = pd.DataFrame([[d, None] for d in pd.date_range(s, t)],columns=['date','dummy']).set_index('date')\n",
    "\n",
    "count_by_location = dummy.join(count_by_location)\n",
    "count_by_location = count_by_location.drop('dummy',axis=1)\n",
    "count_by_location = count_by_location.fillna(0)"
   ]
  },
  {
   "cell_type": "code",
   "execution_count": 7,
   "metadata": {},
   "outputs": [
    {
     "data": {
      "text/plain": [
       "True"
      ]
     },
     "execution_count": 7,
     "metadata": {},
     "output_type": "execute_result"
    }
   ],
   "source": [
    "len(count_by_location) == len(dummy)"
   ]
  },
  {
   "cell_type": "code",
   "execution_count": 8,
   "metadata": {},
   "outputs": [
    {
     "data": {
      "text/plain": [
       "True"
      ]
     },
     "execution_count": 8,
     "metadata": {},
     "output_type": "execute_result"
    }
   ],
   "source": [
    "len(raw) == count_by_location.sum(axis=1).sum()"
   ]
  },
  {
   "cell_type": "code",
   "execution_count": 10,
   "metadata": {},
   "outputs": [],
   "source": [
    "for region,prefs in region_to_prefecture.items():\n",
    "    target = [e for e in prefs if e in count_by_location.columns]\n",
    "    count_by_location[region] = count_by_location[target].sum(axis=1)"
   ]
  },
  {
   "cell_type": "code",
   "execution_count": 11,
   "metadata": {},
   "outputs": [
    {
     "name": "stdout",
     "output_type": "stream",
     "text": [
      "824\n",
      "812.0\n",
      "12.0\n"
     ]
    }
   ],
   "source": [
    "print(len(raw))\n",
    "region_names = region_to_prefecture.keys()\n",
    "print(count_by_location[region_names].sum(axis=1).sum())\n",
    "print(count_by_location[set(count_by_location.columns) - set(prefectures) - set(region_names)].sum(axis=1).sum())"
   ]
  },
  {
   "cell_type": "code",
   "execution_count": 51,
   "metadata": {},
   "outputs": [],
   "source": [
    "threshold = 5\n",
    "res = {\n",
    "    'original_date' : {},\n",
    "}\n",
    "for location in count_by_location.columns:\n",
    "    res['original_date'][location] = {\n",
    "        'daily_count': list(count_by_location[location]),\n",
    "        'cumulative': list(count_by_location[location].cumsum()),\n",
    "    }\n",
    "res['date'] = [d.isoformat() for d in count_by_location[location].index]\n",
    "res['prefectures'] = prefectures\n",
    "\n",
    "def tuple2css(t):\n",
    "    return f'rgb({t[0]}, {t[1]}, {t[2]})'\n",
    "\n",
    "res['colors'] = {p: tuple2css(tableau20[i%20]) for i, p in enumerate(prefectures)}"
   ]
  },
  {
   "cell_type": "code",
   "execution_count": 52,
   "metadata": {},
   "outputs": [],
   "source": [
    "with open('../../html/count_by_location.json', 'w') as f:\n",
    "    json.dump(res, f)"
   ]
  },
  {
   "cell_type": "code",
   "execution_count": 44,
   "metadata": {},
   "outputs": [],
   "source": [
    "prefs = region_to_prefecture['近畿']\n",
    "target = [e for e in prefs if e in count_by_location.columns]\n",
    "prefs, target\n",
    "tmp = count_by_location['近畿'].cumsum()\n",
    "# tmp = tmp[tmp>threshold]"
   ]
  },
  {
   "cell_type": "code",
   "execution_count": 45,
   "metadata": {},
   "outputs": [
    {
     "data": {
      "text/plain": [
       "date\n",
       "2020-02-13      6.0\n",
       "2020-02-14      9.0\n",
       "2020-02-15     10.0\n",
       "2020-02-16     10.0\n",
       "2020-02-17     13.0\n",
       "2020-02-18     15.0\n",
       "2020-02-19     15.0\n",
       "2020-02-20     15.0\n",
       "2020-02-21     15.0\n",
       "2020-02-22     16.0\n",
       "2020-02-23     16.0\n",
       "2020-02-24     16.0\n",
       "2020-02-25     16.0\n",
       "2020-02-26     18.0\n",
       "2020-02-27     21.0\n",
       "2020-02-28     21.0\n",
       "2020-02-29     21.0\n",
       "2020-03-01     22.0\n",
       "2020-03-02     24.0\n",
       "2020-03-03     29.0\n",
       "2020-03-04     38.0\n",
       "2020-03-05     41.0\n",
       "2020-03-06     58.0\n",
       "2020-03-07     68.0\n",
       "2020-03-08     81.0\n",
       "2020-03-09     85.0\n",
       "2020-03-10    109.0\n",
       "2020-03-11    128.0\n",
       "2020-03-12    146.0\n",
       "2020-03-13    160.0\n",
       "2020-03-14    176.0\n",
       "2020-03-15    184.0\n",
       "2020-03-16    190.0\n",
       "2020-03-17    200.0\n",
       "2020-03-18    211.0\n",
       "2020-03-19    215.0\n",
       "Name: 近畿, dtype: float64"
      ]
     },
     "execution_count": 45,
     "metadata": {},
     "output_type": "execute_result"
    }
   ],
   "source": [
    "tmp[tmp>threshold]"
   ]
  },
  {
   "cell_type": "code",
   "execution_count": 43,
   "metadata": {},
   "outputs": [
    {
     "data": {
      "text/plain": [
       "date\n",
       "2020-01-15    0.0\n",
       "2020-01-16    0.0\n",
       "2020-01-17    0.0\n",
       "2020-01-18    0.0\n",
       "2020-01-19    0.0\n",
       "             ... \n",
       "2020-03-15    4.0\n",
       "2020-03-16    4.0\n",
       "2020-03-17    4.0\n",
       "2020-03-18    4.0\n",
       "2020-03-19    4.0\n",
       "Name: 東北, Length: 65, dtype: float64"
      ]
     },
     "execution_count": 43,
     "metadata": {},
     "output_type": "execute_result"
    }
   ],
   "source": [
    "tmp "
   ]
  },
  {
   "cell_type": "code",
   "execution_count": null,
   "metadata": {},
   "outputs": [],
   "source": []
  }
 ],
 "metadata": {
  "kernelspec": {
   "display_name": "Python 3",
   "language": "python",
   "name": "python3"
  },
  "language_info": {
   "codemirror_mode": {
    "name": "ipython",
    "version": 3
   },
   "file_extension": ".py",
   "mimetype": "text/x-python",
   "name": "python",
   "nbconvert_exporter": "python",
   "pygments_lexer": "ipython3",
   "version": "3.6.2"
  }
 },
 "nbformat": 4,
 "nbformat_minor": 2
}
